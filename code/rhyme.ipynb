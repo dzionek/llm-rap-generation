{
 "cells": [
  {
   "cell_type": "code",
   "execution_count": 2,
   "metadata": {},
   "outputs": [
    {
     "name": "stdout",
     "output_type": "stream",
     "text": [
      "Collecting eng_to_ipa\n",
      "  Downloading eng_to_ipa-0.0.2.tar.gz (2.8 MB)\n",
      "\u001b[2K     \u001b[38;2;114;156;31m━━━━━━━━━━━━━━━━━━━━━━━━━━━━━━━━━━━━━━━━\u001b[0m \u001b[32m2.8/2.8 MB\u001b[0m \u001b[31m12.7 MB/s\u001b[0m eta \u001b[36m0:00:00\u001b[0m MB/s\u001b[0m eta \u001b[36m0:00:01\u001b[0m:01\u001b[0m\n",
      "\u001b[?25h  Preparing metadata (setup.py) ... \u001b[?25ldone\n",
      "\u001b[?25hBuilding wheels for collected packages: eng_to_ipa\n",
      "  Building wheel for eng_to_ipa (setup.py) ... \u001b[?25ldone\n",
      "\u001b[?25h  Created wheel for eng_to_ipa: filename=eng_to_ipa-0.0.2-py3-none-any.whl size=2822605 sha256=aaf514bdd108673538a7e48be369a57f3ffb0b25e60bc95b39ddc2c59e0df816\n",
      "  Stored in directory: /Users/dzionek/Library/Caches/pip/wheels/a6/45/86/8db1ee34203342879ae7096b519d62e9fddeade95e16d60362\n",
      "Successfully built eng_to_ipa\n",
      "Installing collected packages: eng_to_ipa\n",
      "Successfully installed eng_to_ipa-0.0.2\n"
     ]
    }
   ],
   "source": [
    "!pip install eng_to_ipa"
   ]
  },
  {
   "cell_type": "code",
   "execution_count": 3,
   "metadata": {},
   "outputs": [],
   "source": [
    "import eng_to_ipa as ipa\n",
    "import phonetics\n",
    "import lyrics\n",
    "import importlib\n",
    "import pandas as pd"
   ]
  },
  {
   "cell_type": "code",
   "execution_count": 4,
   "metadata": {},
   "outputs": [
    {
     "data": {
      "text/plain": [
       "<module 'lyrics' from '/Users/dzionek/Desktop/academic/edinburgh/MLP/project/lyrics.py'>"
      ]
     },
     "execution_count": 4,
     "metadata": {},
     "output_type": "execute_result"
    }
   ],
   "source": [
    "importlib.reload(phonetics)\n",
    "importlib.reload(lyrics)"
   ]
  },
  {
   "cell_type": "code",
   "execution_count": 5,
   "metadata": {},
   "outputs": [],
   "source": [
    "data = pd.read_csv('test.csv')"
   ]
  },
  {
   "cell_type": "code",
   "execution_count": 7,
   "metadata": {},
   "outputs": [
    {
     "data": {
      "text/plain": [
       "' muy caliente\\ntime to keep it cool thats what the wrist say\\ndont be a fool thats what the fist say \\nim crushin these bitches like its a wednesday\\nskrt skrt that what the wraith do\\ninside whited out i just erased you\\noutside all black its biracial\\nim married to the money and im so faithful\\nman this ring finger so icy \\nits like my middle finger dont fuck with it \\nthese red bottoms so spicy \\nits like theres red pepper stuck to the bottom of em\\npull up in the dawn spicy\\n250 on the arm spicy\\nthey hate me i see why im so icy\\nwhen kim come through they get spicy\\nyou know my niggas be spicy\\nand all my bitches be spicy\\nred birkin red bottoms so spicy\\nthe team lit everythin we do spicy\\nshits real he got add kim make him sit still\\nhe wanna know how these billion dollar lips feel\\nim too classy too bossy\\nyou bitches aint spicy yall just salty\\npull up with the draco in the trunk call it aubrey\\nkimmy got the spice hold the keys to ya life\\nand you bitches couldnt xscape with tis wife\\nim so spicy\\npull up in the dawn spicy\\n250 on the arm spicy\\nthey hate me i see why im so icy\\nwhen kim come through they get spicy\\nyou know my niggas be spicy\\nand all my bitches be spicy\\nred birkin red bottoms so spicy\\nthe team lit everythin we do spicy\\nwe steppin in hotter this year\\nwe steppin in hotter this year\\nand they aint gon like it\\nthey gon be spicy\\nhold up filet that pussy then let it saute\\nthen i sprinkle on it like im salt bae\\nthem jerks aint gettin chicken so they hot sauce\\nyou drippin wack juice boy its not sauce\\nstop hypin up these goofies and wack rhymers\\nyour dick suckin done got worse than blac chyna\\nspice out the cabinet aka the closet\\nim makin up some fly shit im makin a deposit\\nremember we was playin we gon make it in the projects\\nto get that off white you gotta make it from the pyrex\\nnow im into cayenne drippin sriracha\\ntell a nigga stay cool fore we turn up in hot shit nigga\\nget some bangin head then amnesia on em\\nshould i plain jane or add the seasonin on em\\nkimmy\\npull up in the dawn spicy\\n250 on the arm spicy\\nthey hate me i see why im so icy \\nwhy kim come through they get spicy\\nyou know my niggas be spicy\\nand all my bitches be spicy\\nred birkin red bottoms so spicy\\nthe team lit everythin we do spicy\\nwe steppin in hotter this year\\nwe steppin in hotter this year\\nand they aint gon like it\\nthey gon be spicy\\nyou know my niggas be spicy\\nand all my bitches be spicy\\nred birkin red bottoms so spicy\\nthe team lit everythin we do spicy\\nkimmy they gon be spicy after this one'"
      ]
     },
     "execution_count": 7,
     "metadata": {},
     "output_type": "execute_result"
    }
   ],
   "source": [
    "song = data.iloc[4][2]\n",
    "song"
   ]
  },
  {
   "cell_type": "code",
   "execution_count": 8,
   "metadata": {},
   "outputs": [
    {
     "name": "stdout",
     "output_type": "stream",
     "text": [
      "Transcribing: temp_transcription.txt\n"
     ]
    },
    {
     "data": {
      "text/plain": [
       "1.2316715542521994"
      ]
     },
     "execution_count": 8,
     "metadata": {},
     "output_type": "execute_result"
    }
   ],
   "source": [
    "bars = lyrics.Lyrics(filename=None, print_stats=False, text=song, lookback=15)\n",
    "bars.avg_rhyme_length"
   ]
  },
  {
   "cell_type": "code",
   "execution_count": 9,
   "metadata": {},
   "outputs": [
    {
     "name": "stdout",
     "output_type": "stream",
     "text": [
      "------------------------------------------\n",
      "TITLE\n",
      "\n",
      "Avg rhyme length: 1.232\n",
      "\n",
      "Longest rhyme (l=6): \n",
      " ju: n | oU maI nIg@z bi|: spaIsi\n",
      " and O:l maI bItSI#z bi: spaIsi\n",
      " rEd b3:kIn rEd b0t#@mz s | oU spaIsi\n",
      " D@2 ti|:m \n",
      "when kim come through they get spicy.\n",
      "you know my niggas be spicy.\n",
      "and all my bitches be spicy.\n",
      "red birkin red bottoms so spicy.\n",
      "the team lit everythin we do spicy.\n",
      "\n"
     ]
    }
   ],
   "source": [
    "bars.print_song_stats()"
   ]
  }
 ],
 "metadata": {
  "kernelspec": {
   "display_name": "Python 3 (ipykernel)",
   "language": "python",
   "name": "python3"
  },
  "language_info": {
   "codemirror_mode": {
    "name": "ipython",
    "version": 3
   },
   "file_extension": ".py",
   "mimetype": "text/x-python",
   "name": "python",
   "nbconvert_exporter": "python",
   "pygments_lexer": "ipython3",
   "version": "3.9.16"
  },
  "vscode": {
   "interpreter": {
    "hash": "767d51c1340bd893661ea55ea3124f6de3c7a262a8b4abca0554b478b1e2ff90"
   }
  }
 },
 "nbformat": 4,
 "nbformat_minor": 2
}
